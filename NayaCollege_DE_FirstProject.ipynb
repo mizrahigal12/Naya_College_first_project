{
  "nbformat": 4,
  "nbformat_minor": 0,
  "metadata": {
    "colab": {
      "provenance": []
    },
    "kernelspec": {
      "name": "python3",
      "display_name": "Python 3"
    },
    "language_info": {
      "name": "python"
    }
  },
  "cells": [
    {
      "cell_type": "markdown",
      "source": [
        "# **Currencies exchange rate**"
      ],
      "metadata": {
        "id": "bDmHyS-L4ok0"
      }
    },
    {
      "cell_type": "code",
      "execution_count": 59,
      "metadata": {
        "id": "slGm39YFOT5j"
      },
      "outputs": [],
      "source": [
        "import requests\n",
        "import json\n",
        "from datetime import datetime, date, timedelta\n",
        "import pandas as pd\n",
        "from bs4 import BeautifulSoup\n",
        "\n",
        "\n",
        "# import matplotlib.pyplot as plt\n",
        "\n",
        "\n",
        "# Class sulotion\n",
        "class Currencies:\n",
        "\n",
        "    # Initializing the number of days back, base&out currencies\n",
        "    def __init__(self, daysback, base):\n",
        "        self.startday = date.today() - timedelta(days=daysback)\n",
        "        self.endday = date.today()\n",
        "        self.base = base\n",
        "        # self.out = out\n",
        "        # https://api.exchangerate.host/timeseries?base={0}&start_date={1}&end_date={2}&symbols={3}\n",
        "        self.url = 'https://api.exchangerate.host/timeseries?base={0}&start_date={1}&end_date={2}'.format(self.base,\n",
        "                                                                                                          self.startday,\n",
        "                                                                                                          self.endday)\n",
        "        self.response = requests.get(self.url)\n",
        "        self.data = self.response.json()\n",
        "        # create dict of currencies and relevant dates\n",
        "        self.currencies_data = self.data['rates']\n",
        "\n",
        "    def all_currencies(self):\n",
        "        '''c = []\n",
        "        for v in self.currencies_data.values():\n",
        "            for v1 in v:\n",
        "                c.append(v1)\n",
        "        c = set(c)\n",
        "        return c'''\n",
        "\n",
        "        page = requests.get(\"https://www.iban.com/currency-codes\")\n",
        "        soup = BeautifulSoup(page.content, 'html.parser')\n",
        "        tbl1 = soup.find('table')\n",
        "        headers = [th.text.strip() for th in tbl1.find('thead').find_all('th')]\n",
        "        data = []\n",
        "\n",
        "        for tr in tbl1.find('tbody').find_all('tr'):\n",
        "            row_data = {}\n",
        "            for i, td in enumerate(tr.find_all('td')):\n",
        "                row_data[headers[i]] = td.text.strip()\n",
        "            data.append(row_data)\n",
        "\n",
        "        country_df = pd.DataFrame(data)\n",
        "        return country_df\n",
        "\n",
        "    def return_df(self):\n",
        "        # creating df:\n",
        "        df = pd.DataFrame.from_dict(self.currencies_data).T\n",
        "        df.index.name = 'Date'\n",
        "        df = df.drop(columns=['USD'])\n",
        "        df = df.rename(columns={\"ILS\": \"USD\"}).round(2)\n",
        "        conversion_rate = df.USD\n",
        "        df.iloc[:, df.columns != 'USD'] = df.iloc[:, df.columns != 'USD'].apply(\n",
        "            lambda x: (conversion_rate / x).round(2), axis=0)\n",
        "        df[\"Base Rate\"], df['ILS'] = 'ILS', 1\n",
        "        self.df = df\n",
        "        return df\n",
        "\n",
        "    def return_common_curr(self):\n",
        "        df2 = self.df.copy()\n",
        "        df2 = df2[['USD', 'GBP', 'EUR']]\n",
        "        # Calculate daily diff \n",
        "        df2[\"Previous_USD\"] = ((df2.USD.diff() / df2.USD) * 100).round(2).fillna(0).astype(str) + '%'\n",
        "        df2[\"Previous_GBP\"] = ((df2.GBP.diff() / df2.GBP) * 100).round(2).fillna(0).astype(str) + '%'\n",
        "        df2[\"Previous_EUR\"] = ((df2.EUR.diff() / df2.EUR) * 100).round(2).fillna(0).astype(str) + '%'\n",
        "        return df2\n",
        "\n",
        "    def your_df(self, *args):\n",
        "        df3 = self.df.copy()\n",
        "        df3 = df3[[*args]]\n",
        "        return df3\n",
        "\n",
        "    def taxfree_check(self, price, curr):\n",
        "        usd_ex_rate = self.df.at[date.today().isoformat(), 'USD']\n",
        "        ex_rate = self.df.at[date.today().isoformat(), curr]\n",
        "        calc_in_nis = ex_rate * price\n",
        "        calc_in_usd = calc_in_nis / usd_ex_rate\n",
        "        if calc_in_usd > 75:\n",
        "            print(\"%s$ - Tax is requeried\" % (calc_in_usd.round(2)))\n",
        "        else:\n",
        "            print(\"%s$ - You're good\" % (calc_in_usd.round(2)))\n",
        "\n",
        "    def highest_rate(self, curr='USD'):\n",
        "        higest_curr_df = self.df[self.df[curr] == self.df[curr].max()][[curr]]\n",
        "        return higest_curr_df\n",
        "\n",
        "# data = Currencies(5, 'USD')\n",
        "# df = data.return_df()\n",
        "# common_currencies_df = data.return_common_curr()\n",
        "# currencies_df = data.all_currencies()\n",
        "# my_df = data.your_df('USD', 'EUR', 'GBP')\n",
        "# print(data.taxfree_check(270, 'ILS'))\n",
        "# highest_rate_df = data.highest_rate('GBP')"
      ]
    },
    {
      "cell_type": "code",
      "source": [
        "pd.read_html(\"https://www.iban.com/currency-codes\")"
      ],
      "metadata": {
        "colab": {
          "base_uri": "https://localhost:8080/"
        },
        "id": "UiPrO03rBtk0",
        "outputId": "6a3183e4-a4b4-4a82-bbca-882f2f7bd6ab"
      },
      "execution_count": 73,
      "outputs": [
        {
          "output_type": "execute_result",
          "data": {
            "text/plain": [
              "[               Country         Currency Code  Number\n",
              " 0          AFGHANISTAN          Afghani  AFN   971.0\n",
              " 1        ÅLAND ISLANDS             Euro  EUR   978.0\n",
              " 2              ALBANIA              Lek  ALL     8.0\n",
              " 3              ALGERIA   Algerian Dinar  DZD    12.0\n",
              " 4       AMERICAN SAMOA        US Dollar  USD   840.0\n",
              " ..                 ...              ...  ...     ...\n",
              " 264  WALLIS AND FUTUNA        CFP Franc  XPF   953.0\n",
              " 265     WESTERN SAHARA  Moroccan Dirham  MAD   504.0\n",
              " 266              YEMEN      Yemeni Rial  YER   886.0\n",
              " 267             ZAMBIA   Zambian Kwacha  ZMW   967.0\n",
              " 268           ZIMBABWE  Zimbabwe Dollar  ZWL   932.0\n",
              " \n",
              " [269 rows x 4 columns]]"
            ]
          },
          "metadata": {},
          "execution_count": 73
        }
      ]
    },
    {
      "cell_type": "code",
      "source": [],
      "metadata": {
        "id": "Cv6cWH7MBwWH"
      },
      "execution_count": null,
      "outputs": []
    }
  ]
}