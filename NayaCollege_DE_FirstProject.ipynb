{
  "nbformat": 4,
  "nbformat_minor": 0,
  "metadata": {
    "colab": {
      "provenance": []
    },
    "kernelspec": {
      "name": "python3",
      "display_name": "Python 3"
    },
    "language_info": {
      "name": "python"
    }
  },
  "cells": [
    {
      "cell_type": "code",
      "execution_count": 1,
      "metadata": {
        "colab": {
          "base_uri": "https://localhost:8080/"
        },
        "id": "slGm39YFOT5j",
        "outputId": "0ffa8c49-5d51-4556-dde3-08802fa66e51"
      },
      "outputs": [
        {
          "output_type": "stream",
          "name": "stdout",
          "text": [
            "73.77$ - You're good\n",
            "None\n"
          ]
        }
      ],
      "source": [
        "import requests\n",
        "import json\n",
        "from datetime import datetime, date, timedelta\n",
        "import pandas as pd\n",
        "from bs4 import BeautifulSoup\n",
        "#import matplotlib.pyplot as plt\n",
        "\n",
        "\n",
        "#Class sulotion\n",
        "class Currencies:\n",
        "\n",
        "    # Initializing the number of days back, base&out currencies\n",
        "    def __init__(self, daysback, base):\n",
        "        self.startday = date.today() - timedelta(days=daysback)\n",
        "        self.endday = date.today()\n",
        "        self.base = base\n",
        "        #self.out = out\n",
        "        #https://api.exchangerate.host/timeseries?base={0}&start_date={1}&end_date={2}&symbols={3}\n",
        "        self.url =  'https://api.exchangerate.host/timeseries?base={0}&start_date={1}&end_date={2}'.format(self.base,self.startday,self.endday)\n",
        "        self.response = requests.get(self.url)\n",
        "        self.data = self.response.json()\n",
        "        # create dict of currencies and relevant dates\n",
        "        self.currencies_data= self.data['rates']\n",
        "    \n",
        "    def AllCurrencies(self):\n",
        "        '''c = []\n",
        "        for v in self.currencies_data.values():\n",
        "            for v1 in v:\n",
        "                c.append(v1)\n",
        "        c = set(c)\n",
        "        return c'''\n",
        "\n",
        "        page = requests.get(\"https://www.iban.com/currency-codes\")\n",
        "        soup = BeautifulSoup(page.content, 'html.parser')\n",
        "        tbl1 = soup.find('table')\n",
        "        headers = [th.text.strip() for th in tbl1.find('thead').find_all('th')]\n",
        "        data = []\n",
        "\n",
        "        for tr in tbl1.find('tbody').find_all('tr'):\n",
        "            row_data = {}\n",
        "            for i, td in enumerate(tr.find_all('td')):\n",
        "                row_data[headers[i]] = td.text.strip()\n",
        "            data.append(row_data)\n",
        "\n",
        "        country_df = pd.DataFrame(data)\n",
        "        return country_df\n",
        "\n",
        "    def ReturnDF(self):\n",
        "        # creating df:\n",
        "        df = pd.DataFrame.from_dict(self.currencies_data).T\n",
        "        df.index.name = 'Date'\n",
        "        df = df.drop(columns=['USD'])\n",
        "        df = df.rename(columns={\"ILS\": \"USD\"}).round(2)\n",
        "        conversion_rate = df.USD\n",
        "        df.iloc[:, df.columns != 'USD'] = df.iloc[:, df.columns != 'USD'].apply(lambda x: (conversion_rate/x).round(2), axis = 0)\n",
        "        df[\"Base Rate\"], df['ILS'] = 'ILS', 1\n",
        "        self.df = df\n",
        "        return df\n",
        "\n",
        "    def ReturnCommonCur(self):\n",
        "        df2 = self.df.copy()\n",
        "        df2 = df2[['USD' ,'GBP', 'EUR']]\n",
        "        # Calculate daily diff \n",
        "        df2[\"Previous_USD\"] = ((df2.USD.diff() / df2.USD) * 100).round(2).fillna(0).astype(str) + '%'\n",
        "        df2[\"Previous_GBP\"] = ((df2.GBP.diff() / df2.GBP) * 100).round(2).fillna(0).astype(str) + '%'\n",
        "        df2[\"Previous_EUR\"] = ((df2.EUR.diff() / df2.EUR) * 100).round(2).fillna(0).astype(str) + '%'\n",
        "        return df2\n",
        "    \n",
        "    def YourDF(self, *args):\n",
        "        df3 = self.df.copy()\n",
        "        df3 = df3[[*args]]\n",
        "        return df3\n",
        "\n",
        "    def TaxFreeCheck (self,price,curr) :\n",
        "      usd_ex_rate = self.df.at[date.today().isoformat(),'USD']\n",
        "      ex_rate = self.df.at[date.today().isoformat(),curr]\n",
        "      calc_in_nis = ex_rate * price\n",
        "      calc_in_usd = calc_in_nis/usd_ex_rate\n",
        "      if calc_in_usd > 75 :\n",
        "        print(\"%s$ - Tax is requeried\"%(calc_in_usd.round(2)))\n",
        "      else :\n",
        "        print(\"%s$ - You're good\"%(calc_in_usd.round(2)))     \n",
        "     \n",
        "    def HighestRate(self, curr = 'USD'):\n",
        "        higest_curr_df = self.df[self.df[curr] == self.df[curr].max()][[curr]]    \n",
        "        return higest_curr_df\n",
        "    \n",
        "\n",
        "# data = Currencies(5, 'USD')\n",
        "# df = data.ReturnDF()\n",
        "# common_currencies_df = data.ReturnCommonCur()\n",
        "# currencies_df = data.AllCurrencies()\n",
        "# my_df = data.YourDF('USD', 'EUR', 'GBP')\n",
        "# print(data.TaxFreeCheck(270, 'ILS'))\n",
        "# highest_rate_df = data.HighestRate('GBP')\n",
        "\n"
      ]
    }
  ]
}